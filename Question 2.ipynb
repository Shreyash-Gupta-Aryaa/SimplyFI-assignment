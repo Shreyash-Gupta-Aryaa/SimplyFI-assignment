{
 "cells": [
  {
   "cell_type": "code",
   "execution_count": 7,
   "id": "3dc1edf7",
   "metadata": {},
   "outputs": [
    {
     "name": "stdout",
     "output_type": "stream",
     "text": [
      "Enter number of testcase: 3\n",
      "Enter total number of players: 4\n",
      "Maximum Height: 10\n",
      "Enter heights of all the players\n",
      "2\n",
      "13\n",
      "4\n",
      "16\n",
      "Minimum number of players who need to get shot so that Ali is visible in Gi-Hun's line of sight:2\n",
      "\n",
      "Enter total number of players: 5\n",
      "Maximum Height: 8\n",
      "Enter heights of all the players\n",
      "9\n",
      "3\n",
      "8\n",
      "8\n",
      "4\n",
      "Minimum number of players who need to get shot so that Ali is visible in Gi-Hun's line of sight:1\n",
      "\n",
      "Enter total number of players: 4\n",
      "Maximum Height: 6\n",
      "Enter heights of all the players\n",
      "1\n",
      "2\n",
      "3\n",
      "4\n",
      "Minimum number of players who need to get shot so that Ali is visible in Gi-Hun's line of sight:0\n",
      "\n"
     ]
    }
   ],
   "source": [
    "t = int(input(\"Enter number of testcase: \"))\n",
    "count_list = []\n",
    "for _ in range(t):\n",
    "    n = int(input(\"Enter total number of players: \"))\n",
    "    k = int(input(\"Maximum Height: \"))\n",
    "    heights=[]\n",
    "    print(\"Enter heights of all the players\")\n",
    "    for i in range(n):\n",
    "        heights.append(int(input()))\n",
    "    \n",
    "    count=0\n",
    "    for j in heights:\n",
    "        if j>k:\n",
    "            count=count+1\n",
    "            \n",
    "    print(\"Minimum number of players who need to get shot so that Ali is visible in Gi-Hun's line of sight:{}\\n\".format(count))\n"
   ]
  },
  {
   "cell_type": "code",
   "execution_count": null,
   "id": "38ae1d8f",
   "metadata": {},
   "outputs": [],
   "source": [
    "3\n",
    "4 10\n",
    "2 13 4 16\n",
    "5 8\n",
    "9 3 8 8 4\n",
    "4 6\n",
    "1 2 3 4\n"
   ]
  },
  {
   "cell_type": "code",
   "execution_count": null,
   "id": "072269e5",
   "metadata": {},
   "outputs": [],
   "source": []
  }
 ],
 "metadata": {
  "kernelspec": {
   "display_name": "Python 3 (ipykernel)",
   "language": "python",
   "name": "python3"
  },
  "language_info": {
   "codemirror_mode": {
    "name": "ipython",
    "version": 3
   },
   "file_extension": ".py",
   "mimetype": "text/x-python",
   "name": "python",
   "nbconvert_exporter": "python",
   "pygments_lexer": "ipython3",
   "version": "3.8.5"
  }
 },
 "nbformat": 4,
 "nbformat_minor": 5
}
