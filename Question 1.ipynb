{
 "cells": [
  {
   "cell_type": "code",
   "execution_count": 23,
   "id": "cbb6cd7e",
   "metadata": {},
   "outputs": [],
   "source": [
    "def convert(x):\n",
    "    a = str(x)\n",
    "    length = len(a)\n",
    "    c=0\n",
    "    final =' '\n",
    "    for i in reversed(range(length)):\n",
    "        if c == 3:\n",
    "            final = final+','\n",
    "        elif (c%2==1 and c>3):\n",
    "            final= final+','\n",
    "            \n",
    "        final = final + a[i]\n",
    "        c = c+1\n",
    "    final = final[::-1]    \n",
    "    print(final)"
   ]
  },
  {
   "cell_type": "code",
   "execution_count": 36,
   "id": "6111d980",
   "metadata": {},
   "outputs": [
    {
     "name": "stdout",
     "output_type": "stream",
     "text": [
      "1 \n",
      "10 \n",
      "100 \n",
      "1,000 \n",
      "10,000 \n",
      "1,00,000 \n",
      "10,00,000 \n",
      "1,00,00,000 \n",
      "10,00,00,000 \n"
     ]
    }
   ],
   "source": [
    "for i in [1,10,100,1000,10000,100000,1000000,10000000,100000000]:\n",
    "    convert(i)"
   ]
  }
 ],
 "metadata": {
  "kernelspec": {
   "display_name": "Python 3 (ipykernel)",
   "language": "python",
   "name": "python3"
  },
  "language_info": {
   "codemirror_mode": {
    "name": "ipython",
    "version": 3
   },
   "file_extension": ".py",
   "mimetype": "text/x-python",
   "name": "python",
   "nbconvert_exporter": "python",
   "pygments_lexer": "ipython3",
   "version": "3.8.5"
  }
 },
 "nbformat": 4,
 "nbformat_minor": 5
}
